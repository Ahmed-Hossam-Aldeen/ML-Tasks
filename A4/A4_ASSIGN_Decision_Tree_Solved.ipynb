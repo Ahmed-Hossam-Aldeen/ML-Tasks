{
  "cells": [
    {
      "cell_type": "markdown",
      "id": "ee87b09a-445c-44e5-8c46-01cfd49e7b17",
      "metadata": {
        "id": "ee87b09a-445c-44e5-8c46-01cfd49e7b17"
      },
      "source": [
        "# Assignment_3 DT"
      ]
    },
    {
      "cell_type": "code",
      "execution_count": 122,
      "id": "cde0bee0-be12-489f-b1f5-f501ed213a33",
      "metadata": {
        "tags": [],
        "id": "cde0bee0-be12-489f-b1f5-f501ed213a33"
      },
      "outputs": [],
      "source": [
        "# Python ≥3.5 is required\n",
        "import sys\n",
        "assert sys.version_info >= (3, 5)\n",
        "\n",
        "# Scikit-Learn ≥0.20 is required\n",
        "import sklearn\n",
        "assert sklearn.__version__ >= \"0.20\"\n",
        "\n",
        "# Common imports\n",
        "import numpy as np\n",
        "import os\n",
        "\n",
        "# to make this notebook's output stable across runs\n",
        "np.random.seed(42)\n",
        "\n",
        "# To plot pretty figures\n",
        "%matplotlib inline\n",
        "import matplotlib as mpl\n",
        "import matplotlib.pyplot as plt\n",
        "mpl.rc('axes', labelsize=14)\n",
        "mpl.rc('xtick', labelsize=12)\n",
        "mpl.rc('ytick', labelsize=12)"
      ]
    },
    {
      "cell_type": "markdown",
      "id": "5678808b-305d-4a22-aa9c-52dcf7871a0e",
      "metadata": {
        "tags": [],
        "id": "5678808b-305d-4a22-aa9c-52dcf7871a0e"
      },
      "source": [
        "# Part 1 Decision Tree\n"
      ]
    },
    {
      "cell_type": "code",
      "execution_count": 123,
      "id": "6ea861a1-d18c-4d87-835a-7cc5a40996cb",
      "metadata": {
        "colab": {
          "base_uri": "https://localhost:8080/"
        },
        "id": "6ea861a1-d18c-4d87-835a-7cc5a40996cb",
        "outputId": "aed7ff2a-236f-4e2a-cd6d-e407298ad66f"
      },
      "outputs": [
        {
          "output_type": "execute_result",
          "data": {
            "text/plain": [
              "DecisionTreeClassifier(criterion='entropy', max_depth=2, random_state=42)"
            ]
          },
          "metadata": {},
          "execution_count": 123
        }
      ],
      "source": [
        "from sklearn.datasets import load_iris\n",
        "from sklearn.tree import DecisionTreeClassifier\n",
        "\n",
        "iris = load_iris()\n",
        "X = iris.data[:, 2:] # petal length and width\n",
        "y = iris.target\n",
        "\n",
        "tree_clf = DecisionTreeClassifier(max_depth=2, random_state=42, criterion='entropy')\n",
        "tree_clf.fit(X, y)"
      ]
    },
    {
      "cell_type": "markdown",
      "id": "cf2b341d-f202-4ce4-a2b4-293a1f0a3fef",
      "metadata": {
        "id": "cf2b341d-f202-4ce4-a2b4-293a1f0a3fef"
      },
      "source": [
        "## Q1 Plot decision tree using export_graphviz"
      ]
    },
    {
      "cell_type": "code",
      "execution_count": 124,
      "id": "83138e01-2d9a-4103-b6fc-d054805d10ce",
      "metadata": {
        "jupyter": {
          "outputs_hidden": true
        },
        "tags": [],
        "colab": {
          "base_uri": "https://localhost:8080/"
        },
        "id": "83138e01-2d9a-4103-b6fc-d054805d10ce",
        "outputId": "38f066cf-8e1b-47f5-e0b0-a60d12c5f4a0"
      },
      "outputs": [
        {
          "output_type": "execute_result",
          "data": {
            "text/plain": [
              "0.96"
            ]
          },
          "metadata": {},
          "execution_count": 124
        }
      ],
      "source": [
        "# Answer:\n",
        "\n",
        "from graphviz import Source\n",
        "from sklearn.tree import export_graphviz\n",
        "\n",
        "export_graphviz(\n",
        "        tree_clf,\n",
        "        out_file=os.path.join(\"./\", \"iris_tree.dot\"),\n",
        "        feature_names=iris.feature_names[2:],\n",
        "        class_names=iris.target_names,\n",
        "        rounded=True,\n",
        "        filled=True\n",
        "    )\n",
        "\n",
        "Source.from_file(os.path.join(\"./\", \"iris_tree.dot\"))\n",
        "tree_clf.score(X,y)"
      ]
    },
    {
      "cell_type": "markdown",
      "id": "c8f92c0a-e0b6-4431-a484-16d235fb74f0",
      "metadata": {
        "id": "c8f92c0a-e0b6-4431-a484-16d235fb74f0"
      },
      "source": [
        "## Q2 Plotting decision boundaries"
      ]
    },
    {
      "cell_type": "markdown",
      "id": "03bc39a1-488c-4ec2-9b27-f514a1109860",
      "metadata": {
        "id": "03bc39a1-488c-4ec2-9b27-f514a1109860"
      },
      "source": [
        "Use the following function to plot the decision boundaries of DT from Q1"
      ]
    },
    {
      "cell_type": "code",
      "execution_count": 125,
      "id": "c5fa8ec6-637f-424d-82fa-5ca8e2efd6ae",
      "metadata": {
        "tags": [],
        "id": "c5fa8ec6-637f-424d-82fa-5ca8e2efd6ae"
      },
      "outputs": [],
      "source": [
        "from matplotlib.colors import ListedColormap\n",
        "\n",
        "def plot_decision_boundary(clf, X, y, axes=[0, 7.5, 0, 3], iris=True, legend=False, plot_training=True):\n",
        "    x1s = np.linspace(axes[0], axes[1], 100)\n",
        "    x2s = np.linspace(axes[2], axes[3], 100)\n",
        "    x1, x2 = np.meshgrid(x1s, x2s)\n",
        "    X_new = np.c_[x1.ravel(), x2.ravel()]\n",
        "    y_pred = clf.predict(X_new).reshape(x1.shape)\n",
        "    custom_cmap = ListedColormap(['#fafab0','#9898ff','#a0faa0'])\n",
        "    plt.contourf(x1, x2, y_pred, alpha=0.3, cmap=custom_cmap)\n",
        "    if not iris:\n",
        "        custom_cmap2 = ListedColormap(['#7d7d58','#4c4c7f','#507d50'])\n",
        "        plt.contour(x1, x2, y_pred, cmap=custom_cmap2, alpha=0.8)\n",
        "    if plot_training:\n",
        "        plt.plot(X[:, 0][y==0], X[:, 1][y==0], \"yo\", label=\"Iris setosa\")\n",
        "        plt.plot(X[:, 0][y==1], X[:, 1][y==1], \"bs\", label=\"Iris versicolor\")\n",
        "        plt.plot(X[:, 0][y==2], X[:, 1][y==2], \"g^\", label=\"Iris virginica\")\n",
        "        plt.axis(axes)\n",
        "    if iris:\n",
        "        plt.xlabel(\"Petal length\", fontsize=14)\n",
        "        plt.ylabel(\"Petal width\", fontsize=14)\n",
        "    else:\n",
        "        plt.xlabel(r\"$x_1$\", fontsize=18)\n",
        "        plt.ylabel(r\"$x_2$\", fontsize=18, rotation=0)\n",
        "    if legend:\n",
        "        plt.legend(loc=\"lower right\", fontsize=14)"
      ]
    },
    {
      "cell_type": "markdown",
      "id": "dbf4c59b-aebc-4c10-a1da-69aa6cce0cb9",
      "metadata": {
        "id": "dbf4c59b-aebc-4c10-a1da-69aa6cce0cb9"
      },
      "source": [
        "Plotting for max_depth = 2"
      ]
    },
    {
      "cell_type": "code",
      "execution_count": 126,
      "id": "3025e63c-c904-4cb7-9d77-912fff7e262e",
      "metadata": {
        "colab": {
          "base_uri": "https://localhost:8080/",
          "height": 291
        },
        "id": "3025e63c-c904-4cb7-9d77-912fff7e262e",
        "outputId": "ef14e26e-5f71-4cde-b8bf-96eeae5adc4f"
      },
      "outputs": [
        {
          "output_type": "display_data",
          "data": {
            "text/plain": [
              "<Figure size 576x288 with 1 Axes>"
            ],
            "image/png": "[encoded data removed]"
          },
          "metadata": {
            "needs_background": "light"
          }
        }
      ],
      "source": [
        "plt.figure(figsize=(8, 4))\n",
        "\n",
        "plot_decision_boundary(tree_clf, X, y)\n",
        "\n",
        "plt.plot([2.45, 2.45], [0, 3], \"k-\", linewidth=2)\n",
        "plt.plot([2.45, 7.5], [1.75, 1.75], \"k--\", linewidth=2)\n",
        "plt.plot([4.95, 4.95], [0, 1.75], \"k:\", linewidth=2)\n",
        "plt.plot([4.85, 4.85], [1.75, 3], \"k:\", linewidth=2)\n",
        "plt.text(1.40, 1.0, \"Depth=0\", fontsize=15)\n",
        "plt.text(3.2, 1.80, \"Depth=1\", fontsize=13)\n",
        "plt.text(4.05, 0.5, \"Depth=2\", fontsize=11)\n",
        "plt.show()"
      ]
    },
    {
      "cell_type": "markdown",
      "id": "318de1f1-24f6-479c-b977-0f084d15f822",
      "metadata": {
        "id": "318de1f1-24f6-479c-b977-0f084d15f822"
      },
      "source": [
        "### Q2.1\n",
        "- Train the decision tree using a maximum depth of 1.\n",
        "- Plot the decision tree using graphviz\n",
        "- Use the above function to plot the decision boundaries"
      ]
    },
    {
      "cell_type": "code",
      "source": [
        "tree_clf_max_1 = DecisionTreeClassifier(max_depth=1, random_state=42, criterion='entropy')\n",
        "tree_clf_max_1.fit(X, y)\n",
        "#########################################\n",
        "export_graphviz(\n",
        "        tree_clf_max_1,\n",
        "        out_file=os.path.join(\"./\", \"iris_tree1.dot\"),\n",
        "        feature_names=iris.feature_names[2:],\n",
        "        class_names=iris.target_names,\n",
        "        rounded=True,\n",
        "        filled=True\n",
        "    )\n",
        "\n",
        "Source.from_file(os.path.join(\"./\", \"iris_tree1.dot\"))\n"
      ],
      "metadata": {
        "colab": {
          "base_uri": "https://localhost:8080/",
          "height": 282
        },
        "id": "D-ajVLt10LOM",
        "outputId": "fc03f09e-56f6-42e3-85ef-72f7364d78de"
      },
      "id": "D-ajVLt10LOM",
      "execution_count": 127,
      "outputs": [
        {
          "output_type": "execute_result",
          "data": {
            "text/plain": [
              "<graphviz.files.Source at 0x7ff3f68b0090>"
            ],
            "image/svg+xml": "<?xml version=\"1.0\" encoding=\"UTF-8\" standalone=\"no\"?>\n<!DOCTYPE svg PUBLIC \"-//W3C//DTD SVG 1.1//EN\"\n \"http://www.w3.org/Graphics/SVG/1.1/DTD/svg11.dtd\">\n<!-- Generated by graphviz version 2.40.1 (20161225.0304)\n -->\n<!-- Title: Tree Pages: 1 -->\n<svg width=\"280pt\" height=\"195pt\"\n viewBox=\"0.00 0.00 280.00 195.00\" xmlns=\"http://www.w3.org/2000/svg\" xmlns:xlink=\"http://www.w3.org/1999/xlink\">\n<g id=\"graph0\" class=\"graph\" transform=\"scale(1 1) rotate(0) translate(4 191)\">\n<title>Tree</title>\n<polygon fill=\"#ffffff\" stroke=\"transparent\" points=\"-4,4 -4,-191 276,-191 276,4 -4,4\"/>\n<!-- 0 -->\n<g id=\"node1\" class=\"node\">\n<title>0</title>\n<path fill=\"#ffffff\" stroke=\"#000000\" d=\"M209.5,-187C209.5,-187 57.5,-187 57.5,-187 51.5,-187 45.5,-181 45.5,-175 45.5,-175 45.5,-116 45.5,-116 45.5,-110 51.5,-104 57.5,-104 57.5,-104 209.5,-104 209.5,-104 215.5,-104 221.5,-110 221.5,-116 221.5,-116 221.5,-175 221.5,-175 221.5,-181 215.5,-187 209.5,-187\"/>\n<text text-anchor=\"middle\" x=\"133.5\" y=\"-171.8\" font-family=\"Helvetica,sans-Serif\" font-size=\"14.00\" fill=\"#000000\">petal length (cm) &lt;= 2.45</text>\n<text text-anchor=\"middle\" x=\"133.5\" y=\"-156.8\" font-family=\"Helvetica,sans-Serif\" font-size=\"14.00\" fill=\"#000000\">entropy = 1.585</text>\n<text text-anchor=\"middle\" x=\"133.5\" y=\"-141.8\" font-family=\"Helvetica,sans-Serif\" font-size=\"14.00\" fill=\"#000000\">samples = 150</text>\n<text text-anchor=\"middle\" x=\"133.5\" y=\"-126.8\" font-family=\"Helvetica,sans-Serif\" font-size=\"14.00\" fill=\"#000000\">value = [50, 50, 50]</text>\n<text text-anchor=\"middle\" x=\"133.5\" y=\"-111.8\" font-family=\"Helvetica,sans-Serif\" font-size=\"14.00\" fill=\"#000000\">class = setosa</text>\n</g>\n<!-- 1 -->\n<g id=\"node2\" class=\"node\">\n<title>1</title>\n<path fill=\"#e58139\" stroke=\"#000000\" d=\"M111,-68C111,-68 12,-68 12,-68 6,-68 0,-62 0,-56 0,-56 0,-12 0,-12 0,-6 6,0 12,0 12,0 111,0 111,0 117,0 123,-6 123,-12 123,-12 123,-56 123,-56 123,-62 117,-68 111,-68\"/>\n<text text-anchor=\"middle\" x=\"61.5\" y=\"-52.8\" font-family=\"Helvetica,sans-Serif\" font-size=\"14.00\" fill=\"#000000\">entropy = 0.0</text>\n<text text-anchor=\"middle\" x=\"61.5\" y=\"-37.8\" font-family=\"Helvetica,sans-Serif\" font-size=\"14.00\" fill=\"#000000\">samples = 50</text>\n<text text-anchor=\"middle\" x=\"61.5\" y=\"-22.8\" font-family=\"Helvetica,sans-Serif\" font-size=\"14.00\" fill=\"#000000\">value = [50, 0, 0]</text>\n<text text-anchor=\"middle\" x=\"61.5\" y=\"-7.8\" font-family=\"Helvetica,sans-Serif\" font-size=\"14.00\" fill=\"#000000\">class = setosa</text>\n</g>\n<!-- 0&#45;&gt;1 -->\n<g id=\"edge1\" class=\"edge\">\n<title>0&#45;&gt;1</title>\n<path fill=\"none\" stroke=\"#000000\" d=\"M106.6899,-103.9815C100.9331,-95.0666 94.8404,-85.6313 89.0559,-76.6734\"/>\n<polygon fill=\"#000000\" stroke=\"#000000\" points=\"91.9904,-74.7658 83.6254,-68.2637 86.1099,-78.5631 91.9904,-74.7658\"/>\n<text text-anchor=\"middle\" x=\"78.3645\" y=\"-89.0039\" font-family=\"Helvetica,sans-Serif\" font-size=\"14.00\" fill=\"#000000\">True</text>\n</g>\n<!-- 2 -->\n<g id=\"node3\" class=\"node\">\n<title>2</title>\n<path fill=\"#ffffff\" stroke=\"#000000\" d=\"M260,-68C260,-68 153,-68 153,-68 147,-68 141,-62 141,-56 141,-56 141,-12 141,-12 141,-6 147,0 153,0 153,0 260,0 260,0 266,0 272,-6 272,-12 272,-12 272,-56 272,-56 272,-62 266,-68 260,-68\"/>\n<text text-anchor=\"middle\" x=\"206.5\" y=\"-52.8\" font-family=\"Helvetica,sans-Serif\" font-size=\"14.00\" fill=\"#000000\">entropy = 1.0</text>\n<text text-anchor=\"middle\" x=\"206.5\" y=\"-37.8\" font-family=\"Helvetica,sans-Serif\" font-size=\"14.00\" fill=\"#000000\">samples = 100</text>\n<text text-anchor=\"middle\" x=\"206.5\" y=\"-22.8\" font-family=\"Helvetica,sans-Serif\" font-size=\"14.00\" fill=\"#000000\">value = [0, 50, 50]</text>\n<text text-anchor=\"middle\" x=\"206.5\" y=\"-7.8\" font-family=\"Helvetica,sans-Serif\" font-size=\"14.00\" fill=\"#000000\">class = versicolor</text>\n</g>\n<!-- 0&#45;&gt;2 -->\n<g id=\"edge2\" class=\"edge\">\n<title>0&#45;&gt;2</title>\n<path fill=\"none\" stroke=\"#000000\" d=\"M160.6825,-103.9815C166.5192,-95.0666 172.6966,-85.6313 178.5614,-76.6734\"/>\n<polygon fill=\"#000000\" stroke=\"#000000\" points=\"181.5179,-78.5472 184.0673,-68.2637 175.6614,-74.7129 181.5179,-78.5472\"/>\n<text text-anchor=\"middle\" x=\"189.1741\" y=\"-89.0365\" font-family=\"Helvetica,sans-Serif\" font-size=\"14.00\" fill=\"#000000\">False</text>\n</g>\n</g>\n</svg>\n"
          },
          "metadata": {},
          "execution_count": 127
        }
      ]
    },
    {
      "cell_type": "code",
      "source": [
        "plt.figure(figsize=(8, 4))\n",
        "plot_decision_boundary(tree_clf_max_1, X, y)\n",
        "\n",
        "plt.plot([2.45, 2.45], [0, 3], \"k-\", linewidth=2)\n",
        "plt.text(1.27, 1.0, \"Depth=0\", fontsize=15)\n",
        "plt.text(3.2, 1.80, \"Depth=1\", fontsize=13)\n",
        "plt.show()"
      ],
      "metadata": {
        "colab": {
          "base_uri": "https://localhost:8080/",
          "height": 291
        },
        "id": "2ON6DjAA2RzH",
        "outputId": "6ae90046-d007-4f06-df0a-bc8366ec482d"
      },
      "id": "2ON6DjAA2RzH",
      "execution_count": 128,
      "outputs": [
        {
          "output_type": "display_data",
          "data": {
            "text/plain": [
              "<Figure size 576x288 with 1 Axes>"
            ],
            "image/png": "[encoded data removed]"
          },
          "metadata": {
            "needs_background": "light"
          }
        }
      ]
    },
    {
      "cell_type": "markdown",
      "id": "ef5c2e8f-5f7f-4cdb-a29c-3f2440a04f41",
      "metadata": {
        "id": "ef5c2e8f-5f7f-4cdb-a29c-3f2440a04f41"
      },
      "source": [
        "**Question**\n",
        "1. After plotting the resulting tree.\n",
        "    - What's the output entropy in each block?\n",
        "    - Comment on the entropy values in each block.\n",
        "2. What's the difference in decision trees between using max_depth = 1, max_depth = 2, max_depth = 10? *Hint: Plot the tree in each case*"
      ]
    },
    {
      "cell_type": "code",
      "execution_count": 129,
      "id": "05803c56-ab98-490d-b38c-9334b8605998",
      "metadata": {
        "colab": {
          "base_uri": "https://localhost:8080/"
        },
        "id": "05803c56-ab98-490d-b38c-9334b8605998",
        "outputId": "77331f5f-f62f-4d89-911f-4016302a357e"
      },
      "outputs": [
        {
          "output_type": "execute_result",
          "data": {
            "text/plain": [
              "0.9933333333333333"
            ]
          },
          "metadata": {},
          "execution_count": 129
        }
      ],
      "source": [
        "\n",
        "tree_clf_max_10 = DecisionTreeClassifier(max_depth=10, random_state=42, criterion='entropy')\n",
        "tree_clf_max_10.fit(X, y)\n",
        "#########################################\n",
        "export_graphviz(\n",
        "        tree_clf_max_10,\n",
        "        out_file=os.path.join(\"./\", f\"iris_10.dot\"),\n",
        "        feature_names=iris.feature_names[2:],\n",
        "        class_names=iris.target_names,\n",
        "        rounded=True,\n",
        "        filled=True\n",
        "    )\n",
        "\n",
        "Source.from_file(os.path.join(\"./\", f\"iris_10.dot\"))\n",
        "tree_clf_max_10.score(X,y)"
      ]
    },
    {
      "cell_type": "markdown",
      "id": "49588e59-411f-4d51-92ed-85ff4dbc8b54",
      "metadata": {
        "id": "49588e59-411f-4d51-92ed-85ff4dbc8b54"
      },
      "source": [
        "**Answer**"
      ]
    },
    {
      "cell_type": "markdown",
      "id": "db2d6bf6-9997-4288-99b5-36adcee48ad1",
      "metadata": {
        "id": "db2d6bf6-9997-4288-99b5-36adcee48ad1"
      },
      "source": [
        "1. The entropy of the left branch is 0 which is good and the entropy of right branch for (false) is 1 which is so bad and did not help me yet\n",
        "\n",
        "2. The tree using depth one did not give me good accuracy because it did not divide the data good but using depth 2 it divided the data better with better accuracy and for depth 10 the tree stopped after depth 5 and it gave me good accuracy too but it may overfit with test data. When the max depth increases the accuracy increases. \n",
        "\n",
        "\n"
      ]
    },
    {
      "cell_type": "markdown",
      "id": "c6effe09-e97d-4156-9fab-afe7c2436034",
      "metadata": {
        "id": "c6effe09-e97d-4156-9fab-afe7c2436034"
      },
      "source": [
        "### Q2.2"
      ]
    },
    {
      "cell_type": "markdown",
      "id": "4a1f4af8-a6fe-4374-bc4d-a41553eb67fd",
      "metadata": {
        "id": "4a1f4af8-a6fe-4374-bc4d-a41553eb67fd"
      },
      "source": [
        "**Question**\n",
        "1. Calculate probabilities of all classes on this data point X = [[5, 1.5]] using decision tree with max_depth = 2\n",
        "2. Compare your result with \"predict_proba\" function."
      ]
    },
    {
      "cell_type": "markdown",
      "id": "5f6fa292-33f9-4658-b5dc-441c52014408",
      "metadata": {
        "id": "5f6fa292-33f9-4658-b5dc-441c52014408"
      },
      "source": [
        "**Answer**\n",
        "1. If 5<2.45 --> No then it go to the right block and then \n",
        "check if 1.5<1.75 --> yes then go to the left block and here there is 54 samples and values [0,49,5] and then calculate probabilties [0/54]=0 \n",
        "[49/54]=0.90740741 [5/54]=0.09259259 and if we compare this result with predict_proba we will got same result"
      ]
    },
    {
      "cell_type": "code",
      "execution_count": 130,
      "id": "82a9b23b-7d6c-4183-8305-974bac999f9a",
      "metadata": {
        "colab": {
          "base_uri": "https://localhost:8080/"
        },
        "id": "82a9b23b-7d6c-4183-8305-974bac999f9a",
        "outputId": "05e85ce1-5325-44e2-a972-c22fa8219058"
      },
      "outputs": [
        {
          "output_type": "execute_result",
          "data": {
            "text/plain": [
              "array([[0.        , 0.90740741, 0.09259259]])"
            ]
          },
          "metadata": {},
          "execution_count": 130
        }
      ],
      "source": [
        "tree_clf.predict_proba([[5, 1.5]])"
      ]
    },
    {
      "cell_type": "markdown",
      "id": "07e28718-95f1-406e-9f48-e09fe8e08af1",
      "metadata": {
        "id": "07e28718-95f1-406e-9f48-e09fe8e08af1"
      },
      "source": [
        "## Question 3 Sensitivity to data"
      ]
    },
    {
      "cell_type": "markdown",
      "id": "8dde5c17-203f-4441-a91a-3a8587f25709",
      "metadata": {
        "id": "8dde5c17-203f-4441-a91a-3a8587f25709"
      },
      "source": [
        "### Q3.1 Decision Tree\n",
        "**Question**\n",
        "1. Fit a decision tree classifier max_depth = 2, to the original data\n",
        "2. Plot the resulting decision boundaries\n",
        "3. Print the clasifier score on training data"
      ]
    },
    {
      "cell_type": "code",
      "execution_count": 131,
      "id": "f66d42fc-b84e-4905-af0e-1f7bd959be3c",
      "metadata": {
        "tags": [],
        "colab": {
          "base_uri": "https://localhost:8080/",
          "height": 308
        },
        "id": "f66d42fc-b84e-4905-af0e-1f7bd959be3c",
        "outputId": "17af81e7-0bf2-40d4-8d01-1a48d9bc5f4b"
      },
      "outputs": [
        {
          "output_type": "display_data",
          "data": {
            "text/plain": [
              "<Figure size 432x288 with 1 Axes>"
            ],
            "image/png": "[encoded data removed]"
          },
          "metadata": {
            "needs_background": "light"
          }
        },
        {
          "output_type": "execute_result",
          "data": {
            "text/plain": [
              "0.96"
            ]
          },
          "metadata": {},
          "execution_count": 131
        }
      ],
      "source": [
        "tree_clf_max_2 = DecisionTreeClassifier(max_depth=2, random_state=42, criterion='entropy')\n",
        "tree_clf_max_2.fit(X, y)\n",
        "plot_decision_boundary(tree_clf_max_2, X, y)\n",
        "\n",
        "plt.plot([2.45, 2.45], [0, 3], \"k-\", linewidth=2)\n",
        "plt.plot([2.45, 7.5], [1.75, 1.75], \"k--\", linewidth=2)\n",
        "plt.plot([4.95, 4.95], [0, 1.75], \"k:\", linewidth=2)\n",
        "plt.plot([4.85, 4.85], [1.75, 3], \"k:\", linewidth=2)\n",
        "plt.text(0.75, 1.0, \"Depth=0\", fontsize=15)\n",
        "plt.text(3.2, 1.80, \"Depth=1\", fontsize=13)\n",
        "plt.text(4.05, 0.5, \"Depth=2\", fontsize=11)\n",
        "plt.show()\n",
        "tree_clf_max_2.score(X,y)"
      ]
    },
    {
      "cell_type": "markdown",
      "id": "a5305987-08db-4353-a1dd-aff97449219a",
      "metadata": {
        "id": "a5305987-08db-4353-a1dd-aff97449219a"
      },
      "source": [
        "The following cell rotates the data by angle 20"
      ]
    },
    {
      "cell_type": "code",
      "execution_count": 132,
      "id": "d6298947-acd2-45b1-945e-9170470f3264",
      "metadata": {
        "tags": [],
        "id": "d6298947-acd2-45b1-945e-9170470f3264"
      },
      "outputs": [],
      "source": [
        "angle = np.pi / 180 * 20\n",
        "rotation_matrix = np.array([[np.cos(angle), -np.sin(angle)], [np.sin(angle), np.cos(angle)]])\n",
        "Xr = X.dot(rotation_matrix)"
      ]
    },
    {
      "cell_type": "markdown",
      "id": "38645586-6b98-4c22-aca8-bc7587d8eab1",
      "metadata": {
        "id": "38645586-6b98-4c22-aca8-bc7587d8eab1"
      },
      "source": [
        "**Question**\n",
        "1. Fit another decision tree classifier max_depth = 2, to the rotated data\n",
        "2. Plot the resulting decision boundaries\n",
        "3. Print the clasifier score on training data"
      ]
    },
    {
      "cell_type": "code",
      "execution_count": 133,
      "id": "b73bd7f0-093f-468d-972a-a55123da9054",
      "metadata": {
        "tags": [],
        "colab": {
          "base_uri": "https://localhost:8080/",
          "height": 258
        },
        "id": "b73bd7f0-093f-468d-972a-a55123da9054",
        "outputId": "db55824c-df75-44bb-f505-cd0028cf3de1"
      },
      "outputs": [
        {
          "output_type": "stream",
          "name": "stdout",
          "text": [
            "Score: 0.9733333333333334\n"
          ]
        },
        {
          "output_type": "display_data",
          "data": {
            "text/plain": [
              "<Figure size 576x216 with 1 Axes>"
            ],
            "image/png": "[encoded data removed]"
          },
          "metadata": {
            "needs_background": "light"
          }
        }
      ],
      "source": [
        "tree_clf_max_2_rotated = DecisionTreeClassifier(max_depth=2, random_state=42)\n",
        "tree_clf_max_2_rotated.fit(Xr, y)\n",
        "print(\"Score:\",tree_clf_max_2_rotated.score(Xr,y))\n",
        "plt.figure(figsize=(8, 3))\n",
        "\n",
        "plot_decision_boundary(tree_clf_max_2_rotated, Xr, y, axes=[0.5, 7.5, -1.0, 1], iris=False)\n",
        "\n",
        "plt.show()"
      ]
    },
    {
      "cell_type": "markdown",
      "id": "1c012442-5bef-48ff-9674-60aba0010168",
      "metadata": {
        "id": "1c012442-5bef-48ff-9674-60aba0010168"
      },
      "source": [
        "### Q3.2 Logistic Regression\n",
        "The following function plots the decision boundaries for a logistic regression classifier"
      ]
    },
    {
      "cell_type": "code",
      "execution_count": 134,
      "id": "8232066b-2388-4296-b4ea-11c4dc2821ef",
      "metadata": {
        "tags": [],
        "id": "8232066b-2388-4296-b4ea-11c4dc2821ef"
      },
      "outputs": [],
      "source": [
        "import numpy as np\n",
        "def plot_logistic_regression(clf, X, y, axes, iris=True):\n",
        "\n",
        "  x_min, x_max = X[:, 0].min() - 0.5, X[:, 0].max() + 0.5\n",
        "  y_min, y_max = X[:, 1].min() - 0.5, X[:, 1].max() + 0.5\n",
        "  h = 0.02  # step size in the mesh\n",
        "  xx, yy = np.meshgrid(np.arange(x_min, x_max, h), np.arange(y_min, y_max, h))\n",
        "  Z = clf.predict(np.c_[xx.ravel(), yy.ravel()])\n",
        "\n",
        "  # Put the result into a color plot\n",
        "  Z = Z.reshape(xx.shape)\n",
        "  plt.pcolormesh(xx, yy, Z, cmap=plt.cm.Paired)\n",
        "\n",
        "  plt.plot(X[:, 0][y==0], X[:, 1][y==0], \"yo\", label=\"Iris setosa\")\n",
        "  plt.plot(X[:, 0][y==1], X[:, 1][y==1], \"bs\", label=\"Iris versicolor\")\n",
        "  plt.plot(X[:, 0][y==2], X[:, 1][y==2], \"g^\", label=\"Iris virginica\")\n",
        "  \n",
        "  plt.xlim(xx.min(), xx.max())\n",
        "  plt.ylim(yy.min(), yy.max())\n",
        "  if iris:\n",
        "        plt.xlabel(\"Petal length\", fontsize=14)\n",
        "        plt.ylabel(\"Petal width\", fontsize=14)\n",
        "  else:\n",
        "        plt.xlabel(r\"$x_1$\", fontsize=18)\n",
        "        plt.ylabel(r\"$x_2$\", fontsize=18, rotation=0)\n",
        "  plt.legend(loc=\"lower right\", fontsize=14)\n",
        "  plt.show()"
      ]
    },
    {
      "cell_type": "markdown",
      "id": "bc414d90-b10d-4d3b-a198-5ecd2781e835",
      "metadata": {
        "id": "bc414d90-b10d-4d3b-a198-5ecd2781e835"
      },
      "source": [
        "**Question**\n",
        "\n",
        "1. Fit a logistic regression classifier to the original data\n",
        "2. Plot the resulting decision boundaries\n",
        "3. Print the clasifier score on training data"
      ]
    },
    {
      "cell_type": "code",
      "execution_count": 135,
      "id": "22136243-8687-4413-b5f8-4ae7a979a142",
      "metadata": {
        "tags": [],
        "colab": {
          "base_uri": "https://localhost:8080/",
          "height": 303
        },
        "id": "22136243-8687-4413-b5f8-4ae7a979a142",
        "outputId": "3bd82163-24c6-4895-957f-3f86da720afd"
      },
      "outputs": [
        {
          "output_type": "display_data",
          "data": {
            "text/plain": [
              "<Figure size 432x288 with 1 Axes>"
            ],
            "image/png": "[encoded data removed]"
          },
          "metadata": {
            "needs_background": "light"
          }
        },
        {
          "output_type": "execute_result",
          "data": {
            "text/plain": [
              "0.9736842105263158"
            ]
          },
          "metadata": {},
          "execution_count": 135
        }
      ],
      "source": [
        "from sklearn.linear_model import LogisticRegression\n",
        "from sklearn.model_selection import train_test_split\n",
        "logisticRegr = LogisticRegression()\n",
        "\n",
        "x_train, x_test, y_train, y_test = train_test_split(X,y, test_size=0.25, random_state=0)\n",
        "logisticRegr.fit(x_train, y_train)\n",
        "plot_logistic_regression(logisticRegr,X,y,1)\n",
        "logisticRegr.score(x_test,y_test)"
      ]
    },
    {
      "cell_type": "markdown",
      "id": "9f0357b4-70fa-47a7-929c-144ca3ece41d",
      "metadata": {
        "id": "9f0357b4-70fa-47a7-929c-144ca3ece41d"
      },
      "source": [
        "**Question**\n",
        "1. Fit another logistic regression classifier to the rotated data\n",
        "2. Plot the resulting decision boundaries\n",
        "3. Print the clasifier score on training data"
      ]
    },
    {
      "cell_type": "code",
      "execution_count": 136,
      "id": "e315a031-b001-447e-beec-1fb7bfc06269",
      "metadata": {
        "colab": {
          "base_uri": "https://localhost:8080/",
          "height": 308
        },
        "id": "e315a031-b001-447e-beec-1fb7bfc06269",
        "outputId": "3d42ce2d-46eb-4ea9-9cbc-315f7401f9f2"
      },
      "outputs": [
        {
          "output_type": "display_data",
          "data": {
            "text/plain": [
              "<Figure size 432x288 with 1 Axes>"
            ],
            "image/png": "[encoded data removed]"
          },
          "metadata": {
            "needs_background": "light"
          }
        },
        {
          "output_type": "execute_result",
          "data": {
            "text/plain": [
              "0.9736842105263158"
            ]
          },
          "metadata": {},
          "execution_count": 136
        }
      ],
      "source": [
        "x_train, x_test, y_train, y_test = train_test_split(Xr,y, test_size=0.25, random_state=0)\n",
        "logisticRegrRotated  = LogisticRegression()\n",
        "logisticRegrRotated.fit(x_train, y_train)\n",
        "plot_logistic_regression(logisticRegrRotated,Xr,y,1)\n",
        "logisticRegrRotated.score(x_test,y_test)"
      ]
    },
    {
      "cell_type": "markdown",
      "id": "2c18142e-f4f4-458b-96cb-cf9c3dec8223",
      "metadata": {
        "id": "2c18142e-f4f4-458b-96cb-cf9c3dec8223"
      },
      "source": [
        "### Q3.3\n",
        "1. Comment on the differences between the logistic regression and decision trees classifiers scores to the original and rotated data\n",
        "2. Explain why that happened?"
      ]
    },
    {
      "cell_type": "markdown",
      "id": "7563c051-da7a-4038-a8cb-60763a629bda",
      "metadata": {
        "id": "7563c051-da7a-4038-a8cb-60763a629bda"
      },
      "source": [
        "**Answer**\n",
        "\n",
        "1. In logistic regression there is no differnce in score, the score is the same in original data and rotated data , but in decision tree classifiers there is a difference between two scores .\n",
        "\n",
        "2. Decision Trees bisect the space into smaller and smaller regions,so when rotating data the decision tree score is changed because regions is changed whereas Logistic Regression fits a single line to divide the space exactly into two, so the score is not changed."
      ]
    },
    {
      "cell_type": "markdown",
      "id": "d9185fdd-aebc-4266-ba6c-432809a92763",
      "metadata": {
        "id": "d9185fdd-aebc-4266-ba6c-432809a92763"
      },
      "source": [
        "## Question 4 GridSearch"
      ]
    },
    {
      "cell_type": "markdown",
      "id": "d0a07c83-b9ad-4b36-8565-b60140d79ace",
      "metadata": {
        "id": "d0a07c83-b9ad-4b36-8565-b60140d79ace"
      },
      "source": [
        "1. Generate a moons dataset using `make_moons(n_samples=10000, noise=0.4)`."
      ]
    },
    {
      "cell_type": "code",
      "execution_count": 137,
      "id": "f0e27b3b-e44b-401c-afec-e61c9a37a9d8",
      "metadata": {
        "id": "f0e27b3b-e44b-401c-afec-e61c9a37a9d8"
      },
      "outputs": [],
      "source": [
        "from sklearn.datasets import make_moons\n",
        "\n",
        "X, y = make_moons(n_samples=10000, noise=0.4, random_state=42)"
      ]
    },
    {
      "cell_type": "markdown",
      "id": "5f498d10-ba3d-4a08-9190-17eb3afdbd51",
      "metadata": {
        "id": "5f498d10-ba3d-4a08-9190-17eb3afdbd51"
      },
      "source": [
        "2. Split it into a training set and a test set using train_test_split()."
      ]
    },
    {
      "cell_type": "code",
      "execution_count": 138,
      "id": "912c9c1b-f781-4a8e-9749-cd8b3450418d",
      "metadata": {
        "id": "912c9c1b-f781-4a8e-9749-cd8b3450418d"
      },
      "outputs": [],
      "source": [
        "X_train, X_test, y_train, y_test = train_test_split(X, y, test_size=0.2, random_state=42)"
      ]
    },
    {
      "cell_type": "markdown",
      "id": "cb2bb873-baf4-40cd-b6f1-a23c61e78160",
      "metadata": {
        "id": "cb2bb873-baf4-40cd-b6f1-a23c61e78160"
      },
      "source": [
        "3. Use grid search with cross-validation (with the help of the GridSearchCV class) to find best hyperparameter (max_depth, max_leaf_nodes, min_samples_split) values for a DecisionTreeClassifier. \n",
        "    - Choose reasonable values for each hyperparameter.\n",
        "    - Apply GridSearch on a portion of training data."
      ]
    },
    {
      "cell_type": "code",
      "execution_count": 139,
      "id": "dc7d9e5e-16b0-4acd-8a3e-3f2f51bb1949",
      "metadata": {
        "colab": {
          "base_uri": "https://localhost:8080/"
        },
        "id": "dc7d9e5e-16b0-4acd-8a3e-3f2f51bb1949",
        "outputId": "ef22fd80-a3df-4dfd-b7c0-92dd01858842"
      },
      "outputs": [
        {
          "output_type": "stream",
          "name": "stdout",
          "text": [
            "Fitting 3 folds for each of 2058 candidates, totalling 6174 fits\n"
          ]
        },
        {
          "output_type": "execute_result",
          "data": {
            "text/plain": [
              "{'max_depth': 6, 'max_leaf_nodes': 9, 'min_samples_split': 2}"
            ]
          },
          "metadata": {},
          "execution_count": 139
        }
      ],
      "source": [
        "from sklearn.tree import DecisionTreeClassifier\n",
        "from sklearn.model_selection import GridSearchCV\n",
        "from inspect import Parameter\n",
        "params = {'max_leaf_nodes': list(range(2, 100)), 'min_samples_split': [2, 3, 4],'max_depth':[2,3,4,5,6,7,8]}\n",
        "grid_search_cv = GridSearchCV(DecisionTreeClassifier(random_state=42), params, verbose=1, cv=3)\n",
        "\n",
        "grid_search_cv.fit(X_train[0:1000], y_train[0:1000])\n",
        "grid_search_cv.best_params_\n"
      ]
    },
    {
      "cell_type": "markdown",
      "id": "373ee97c-b02d-439c-8b63-3f083753df6b",
      "metadata": {
        "id": "373ee97c-b02d-439c-8b63-3f083753df6b"
      },
      "source": [
        "4. Train it on the full training set using the best hyperparameters, and measure your model's performance on the test set."
      ]
    },
    {
      "cell_type": "code",
      "source": [
        "from sklearn.metrics import accuracy_score\n",
        "y_pred = grid_search_cv.predict(X_test)\n",
        "print(\"accuracy:\",accuracy_score(y_test, y_pred))"
      ],
      "metadata": {
        "colab": {
          "base_uri": "https://localhost:8080/"
        },
        "id": "5Zb2w1hbzy64",
        "outputId": "b454cba2-b278-48b8-e08e-3f9d596d0007"
      },
      "id": "5Zb2w1hbzy64",
      "execution_count": 140,
      "outputs": [
        {
          "output_type": "stream",
          "name": "stdout",
          "text": [
            "accuracy: 0.868\n"
          ]
        }
      ]
    },
    {
      "cell_type": "markdown",
      "id": "95536d76-2750-40aa-b2a1-3fa462602f76",
      "metadata": {
        "id": "95536d76-2750-40aa-b2a1-3fa462602f76"
      },
      "source": [
        "## Question 4 Regression Tree"
      ]
    },
    {
      "cell_type": "markdown",
      "id": "d9e110ad-7b47-4bb5-b439-5241c04a3ecb",
      "metadata": {
        "id": "d9e110ad-7b47-4bb5-b439-5241c04a3ecb"
      },
      "source": [
        "### Question\n",
        "For the following plot of the two decision tree regressors:\n",
        "1. Comment on the results\n",
        "2. Which model has a higher variance error? why?\n",
        "3. Which model has a higher bias error? why?"
      ]
    },
    {
      "cell_type": "markdown",
      "id": "036b8fe9-84d6-4be6-b928-74e57bb9b516",
      "metadata": {
        "id": "036b8fe9-84d6-4be6-b928-74e57bb9b516"
      },
      "source": [
        "**Answer**\n",
        "\n",
        "1. If we increase number of max_depth the model overfits\n",
        "2. with max_depth=5 is a higher variance because of overfitting the data\n",
        "3. with max_depth=2 is a higher bias because of underfitting the data\n"
      ]
    },
    {
      "cell_type": "code",
      "execution_count": 141,
      "id": "486b6e48-87ae-4133-ab82-b36abbc76bad",
      "metadata": {
        "colab": {
          "base_uri": "https://localhost:8080/",
          "height": 693
        },
        "id": "486b6e48-87ae-4133-ab82-b36abbc76bad",
        "outputId": "528487fa-8882-405e-c572-c33da79b7c28"
      },
      "outputs": [
        {
          "output_type": "display_data",
          "data": {
            "text/plain": [
              "<Figure size 1200x800 with 1 Axes>"
            ],
            "image/png": "[encoded data removed]"
          },
          "metadata": {
            "needs_background": "light"
          }
        }
      ],
      "source": [
        "from sklearn.tree import DecisionTreeRegressor\n",
        "\n",
        "# Create a random dataset\n",
        "rng = np.random.RandomState(1)\n",
        "X = np.sort(5 * rng.rand(80, 1), axis=0)\n",
        "y = np.sin(X).ravel()\n",
        "y[::5] += 3 * (0.5 - rng.rand(16))\n",
        "\n",
        "# Fit regression model\n",
        "regr_1 = DecisionTreeRegressor(max_depth=2)\n",
        "regr_2 = DecisionTreeRegressor(max_depth=5)\n",
        "regr_1.fit(X, y)\n",
        "regr_2.fit(X, y)\n",
        "\n",
        "# Predict\n",
        "X_test = np.arange(0.0, 5.0, 0.01)[:, np.newaxis]\n",
        "y_1 = regr_1.predict(X_test)\n",
        "y_2 = regr_2.predict(X_test)\n",
        "\n",
        "# Plot the results\n",
        "plt.figure(figsize=(15,10),dpi=80)\n",
        "plt.scatter(X, y, s=20, edgecolor=\"black\",\n",
        "            c=\"darkorange\", label=\"data\")\n",
        "plt.plot(X_test, y_1, color=\"cornflowerblue\",\n",
        "         label=\"max_depth=2\", linewidth=2)\n",
        "plt.plot(X_test, y_2, color=\"yellowgreen\", label=\"max_depth=5\", linewidth=2)\n",
        "plt.xlabel(\"data\")\n",
        "plt.ylabel(\"target\")\n",
        "plt.title(\"Decision Tree Regression\")\n",
        "plt.legend()\n",
        "plt.show()"
      ]
    }
  ],
  "metadata": {
    "kernelspec": {
      "display_name": "Python 3 (ipykernel)",
      "language": "python",
      "name": "python3"
    },
    "language_info": {
      "codemirror_mode": {
        "name": "ipython",
        "version": 3
      },
      "file_extension": ".py",
      "mimetype": "text/x-python",
      "name": "python",
      "nbconvert_exporter": "python",
      "pygments_lexer": "ipython3",
      "version": "3.8.3"
    },
    "colab": {
      "name": "A4_ASSIGN_Decision_Tree - Copy.ipynb",
      "provenance": [],
      "collapsed_sections": []
    }
  },
  "nbformat": 4,
  "nbformat_minor": 5
}